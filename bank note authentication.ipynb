{
 "cells": [
  {
   "cell_type": "code",
   "execution_count": 1,
   "metadata": {},
   "outputs": [],
   "source": [
    "#importing all the required libraries\n",
    "import numpy as np\n",
    "import matplotlib.pyplot as plt\n",
    "%matplotlib inline\n",
    "import pandas as pd\n",
    "import seaborn as sns"
   ]
  },
  {
   "cell_type": "code",
   "execution_count": 3,
   "metadata": {},
   "outputs": [],
   "source": [
    "#import the data set\n",
    "data=pd.read_csv('C:\\\\Users\\\\KUMAR HIREMATH\\\\Downloads\\\\BankNote_Authentication.csv')"
   ]
  },
  {
   "cell_type": "code",
   "execution_count": 4,
   "metadata": {},
   "outputs": [
    {
     "data": {
      "text/html": [
       "<div>\n",
       "<style scoped>\n",
       "    .dataframe tbody tr th:only-of-type {\n",
       "        vertical-align: middle;\n",
       "    }\n",
       "\n",
       "    .dataframe tbody tr th {\n",
       "        vertical-align: top;\n",
       "    }\n",
       "\n",
       "    .dataframe thead th {\n",
       "        text-align: right;\n",
       "    }\n",
       "</style>\n",
       "<table border=\"1\" class=\"dataframe\">\n",
       "  <thead>\n",
       "    <tr style=\"text-align: right;\">\n",
       "      <th></th>\n",
       "      <th>variance</th>\n",
       "      <th>skewness</th>\n",
       "      <th>curtosis</th>\n",
       "      <th>entropy</th>\n",
       "      <th>class</th>\n",
       "    </tr>\n",
       "  </thead>\n",
       "  <tbody>\n",
       "    <tr>\n",
       "      <th>0</th>\n",
       "      <td>3.62160</td>\n",
       "      <td>8.6661</td>\n",
       "      <td>-2.8073</td>\n",
       "      <td>-0.44699</td>\n",
       "      <td>0</td>\n",
       "    </tr>\n",
       "    <tr>\n",
       "      <th>1</th>\n",
       "      <td>4.54590</td>\n",
       "      <td>8.1674</td>\n",
       "      <td>-2.4586</td>\n",
       "      <td>-1.46210</td>\n",
       "      <td>0</td>\n",
       "    </tr>\n",
       "    <tr>\n",
       "      <th>2</th>\n",
       "      <td>3.86600</td>\n",
       "      <td>-2.6383</td>\n",
       "      <td>1.9242</td>\n",
       "      <td>0.10645</td>\n",
       "      <td>0</td>\n",
       "    </tr>\n",
       "    <tr>\n",
       "      <th>3</th>\n",
       "      <td>3.45660</td>\n",
       "      <td>9.5228</td>\n",
       "      <td>-4.0112</td>\n",
       "      <td>-3.59440</td>\n",
       "      <td>0</td>\n",
       "    </tr>\n",
       "    <tr>\n",
       "      <th>4</th>\n",
       "      <td>0.32924</td>\n",
       "      <td>-4.4552</td>\n",
       "      <td>4.5718</td>\n",
       "      <td>-0.98880</td>\n",
       "      <td>0</td>\n",
       "    </tr>\n",
       "  </tbody>\n",
       "</table>\n",
       "</div>"
      ],
      "text/plain": [
       "   variance  skewness  curtosis  entropy  class\n",
       "0   3.62160    8.6661   -2.8073 -0.44699      0\n",
       "1   4.54590    8.1674   -2.4586 -1.46210      0\n",
       "2   3.86600   -2.6383    1.9242  0.10645      0\n",
       "3   3.45660    9.5228   -4.0112 -3.59440      0\n",
       "4   0.32924   -4.4552    4.5718 -0.98880      0"
      ]
     },
     "execution_count": 4,
     "metadata": {},
     "output_type": "execute_result"
    }
   ],
   "source": [
    "data.head()"
   ]
  },
  {
   "cell_type": "code",
   "execution_count": 5,
   "metadata": {},
   "outputs": [
    {
     "data": {
      "text/plain": [
       "(1372, 5)"
      ]
     },
     "execution_count": 5,
     "metadata": {},
     "output_type": "execute_result"
    }
   ],
   "source": [
    "#shape of the dataset\n",
    "data.shape"
   ]
  },
  {
   "cell_type": "code",
   "execution_count": 7,
   "metadata": {},
   "outputs": [
    {
     "data": {
      "text/plain": [
       "variance    0\n",
       "skewness    0\n",
       "curtosis    0\n",
       "entropy     0\n",
       "class       0\n",
       "dtype: int64"
      ]
     },
     "execution_count": 7,
     "metadata": {},
     "output_type": "execute_result"
    }
   ],
   "source": [
    "data.isnull().sum()"
   ]
  },
  {
   "cell_type": "code",
   "execution_count": 14,
   "metadata": {},
   "outputs": [],
   "source": [
    "# dependent and independent variables\n",
    "x=data.iloc[:,0:4]\n",
    "y=data.iloc[:,4:]"
   ]
  },
  {
   "cell_type": "code",
   "execution_count": 15,
   "metadata": {},
   "outputs": [
    {
     "data": {
      "text/html": [
       "<div>\n",
       "<style scoped>\n",
       "    .dataframe tbody tr th:only-of-type {\n",
       "        vertical-align: middle;\n",
       "    }\n",
       "\n",
       "    .dataframe tbody tr th {\n",
       "        vertical-align: top;\n",
       "    }\n",
       "\n",
       "    .dataframe thead th {\n",
       "        text-align: right;\n",
       "    }\n",
       "</style>\n",
       "<table border=\"1\" class=\"dataframe\">\n",
       "  <thead>\n",
       "    <tr style=\"text-align: right;\">\n",
       "      <th></th>\n",
       "      <th>variance</th>\n",
       "      <th>skewness</th>\n",
       "      <th>curtosis</th>\n",
       "      <th>entropy</th>\n",
       "    </tr>\n",
       "  </thead>\n",
       "  <tbody>\n",
       "    <tr>\n",
       "      <th>0</th>\n",
       "      <td>3.62160</td>\n",
       "      <td>8.6661</td>\n",
       "      <td>-2.8073</td>\n",
       "      <td>-0.44699</td>\n",
       "    </tr>\n",
       "    <tr>\n",
       "      <th>1</th>\n",
       "      <td>4.54590</td>\n",
       "      <td>8.1674</td>\n",
       "      <td>-2.4586</td>\n",
       "      <td>-1.46210</td>\n",
       "    </tr>\n",
       "    <tr>\n",
       "      <th>2</th>\n",
       "      <td>3.86600</td>\n",
       "      <td>-2.6383</td>\n",
       "      <td>1.9242</td>\n",
       "      <td>0.10645</td>\n",
       "    </tr>\n",
       "    <tr>\n",
       "      <th>3</th>\n",
       "      <td>3.45660</td>\n",
       "      <td>9.5228</td>\n",
       "      <td>-4.0112</td>\n",
       "      <td>-3.59440</td>\n",
       "    </tr>\n",
       "    <tr>\n",
       "      <th>4</th>\n",
       "      <td>0.32924</td>\n",
       "      <td>-4.4552</td>\n",
       "      <td>4.5718</td>\n",
       "      <td>-0.98880</td>\n",
       "    </tr>\n",
       "  </tbody>\n",
       "</table>\n",
       "</div>"
      ],
      "text/plain": [
       "   variance  skewness  curtosis  entropy\n",
       "0   3.62160    8.6661   -2.8073 -0.44699\n",
       "1   4.54590    8.1674   -2.4586 -1.46210\n",
       "2   3.86600   -2.6383    1.9242  0.10645\n",
       "3   3.45660    9.5228   -4.0112 -3.59440\n",
       "4   0.32924   -4.4552    4.5718 -0.98880"
      ]
     },
     "execution_count": 15,
     "metadata": {},
     "output_type": "execute_result"
    }
   ],
   "source": [
    "x.head()"
   ]
  },
  {
   "cell_type": "code",
   "execution_count": 16,
   "metadata": {},
   "outputs": [
    {
     "data": {
      "text/html": [
       "<div>\n",
       "<style scoped>\n",
       "    .dataframe tbody tr th:only-of-type {\n",
       "        vertical-align: middle;\n",
       "    }\n",
       "\n",
       "    .dataframe tbody tr th {\n",
       "        vertical-align: top;\n",
       "    }\n",
       "\n",
       "    .dataframe thead th {\n",
       "        text-align: right;\n",
       "    }\n",
       "</style>\n",
       "<table border=\"1\" class=\"dataframe\">\n",
       "  <thead>\n",
       "    <tr style=\"text-align: right;\">\n",
       "      <th></th>\n",
       "      <th>class</th>\n",
       "    </tr>\n",
       "  </thead>\n",
       "  <tbody>\n",
       "    <tr>\n",
       "      <th>0</th>\n",
       "      <td>0</td>\n",
       "    </tr>\n",
       "    <tr>\n",
       "      <th>1</th>\n",
       "      <td>0</td>\n",
       "    </tr>\n",
       "    <tr>\n",
       "      <th>2</th>\n",
       "      <td>0</td>\n",
       "    </tr>\n",
       "    <tr>\n",
       "      <th>3</th>\n",
       "      <td>0</td>\n",
       "    </tr>\n",
       "    <tr>\n",
       "      <th>4</th>\n",
       "      <td>0</td>\n",
       "    </tr>\n",
       "  </tbody>\n",
       "</table>\n",
       "</div>"
      ],
      "text/plain": [
       "   class\n",
       "0      0\n",
       "1      0\n",
       "2      0\n",
       "3      0\n",
       "4      0"
      ]
     },
     "execution_count": 16,
     "metadata": {},
     "output_type": "execute_result"
    }
   ],
   "source": [
    "y.head()"
   ]
  },
  {
   "cell_type": "code",
   "execution_count": 17,
   "metadata": {},
   "outputs": [],
   "source": [
    "#splitting the data set into training and test data set\n",
    "from sklearn.model_selection import train_test_split\n",
    "x_train,x_test,y_train,y_test=train_test_split(x,y,test_size=0.2,random_state=0)"
   ]
  },
  {
   "cell_type": "code",
   "execution_count": 18,
   "metadata": {},
   "outputs": [],
   "source": [
    "#feature scaling\n",
    "from sklearn.preprocessing import StandardScaler\n",
    "sc=StandardScaler()\n",
    "x_train=sc.fit_transform(x_train)\n",
    "x_test=sc.transform(x_test)"
   ]
  },
  {
   "cell_type": "code",
   "execution_count": 23,
   "metadata": {},
   "outputs": [],
   "source": [
    "from tensorflow.keras.models import Sequential\n",
    "from tensorflow.keras.layers import Dense"
   ]
  },
  {
   "cell_type": "code",
   "execution_count": 24,
   "metadata": {},
   "outputs": [],
   "source": [
    "#initializing ANN\n",
    "classifier=Sequential()"
   ]
  },
  {
   "cell_type": "code",
   "execution_count": 25,
   "metadata": {},
   "outputs": [],
   "source": [
    "#adding the input layer and first dense layer\n",
    "classifier.add(Dense(activation='relu',input_dim=4,units=6,kernel_initializer='uniform'))\n"
   ]
  },
  {
   "cell_type": "code",
   "execution_count": 26,
   "metadata": {},
   "outputs": [],
   "source": [
    "#adding second hidden layer\n",
    "classifier.add(Dense(activation='relu',units=6,kernel_initializer='uniform'))"
   ]
  },
  {
   "cell_type": "code",
   "execution_count": 27,
   "metadata": {},
   "outputs": [],
   "source": [
    "#adding output layer\n",
    "classifier.add(Dense(activation='sigmoid',units=1,kernel_initializer='uniform'))"
   ]
  },
  {
   "cell_type": "code",
   "execution_count": 28,
   "metadata": {},
   "outputs": [
    {
     "name": "stdout",
     "output_type": "stream",
     "text": [
      "Model: \"sequential\"\n",
      "_________________________________________________________________\n",
      "Layer (type)                 Output Shape              Param #   \n",
      "=================================================================\n",
      "dense (Dense)                (None, 6)                 30        \n",
      "_________________________________________________________________\n",
      "dense_1 (Dense)              (None, 6)                 42        \n",
      "_________________________________________________________________\n",
      "dense_2 (Dense)              (None, 1)                 7         \n",
      "=================================================================\n",
      "Total params: 79\n",
      "Trainable params: 79\n",
      "Non-trainable params: 0\n",
      "_________________________________________________________________\n"
     ]
    }
   ],
   "source": [
    "classifier.summary()"
   ]
  },
  {
   "cell_type": "code",
   "execution_count": 29,
   "metadata": {},
   "outputs": [],
   "source": [
    "classifier.compile(optimizer='adam',loss='binary_crossentropy',metrics=['accuracy'])"
   ]
  },
  {
   "cell_type": "code",
   "execution_count": 30,
   "metadata": {},
   "outputs": [
    {
     "name": "stdout",
     "output_type": "stream",
     "text": [
      "Epoch 1/100\n",
      "110/110 [==============================] - 1s 2ms/step - loss: 0.6926 - accuracy: 0.5321\n",
      "Epoch 2/100\n",
      "110/110 [==============================] - 0s 2ms/step - loss: 0.6703 - accuracy: 0.8741\n",
      "Epoch 3/100\n",
      "110/110 [==============================] - 0s 2ms/step - loss: 0.5500 - accuracy: 0.8979\n",
      "Epoch 4/100\n",
      "110/110 [==============================] - 0s 2ms/step - loss: 0.4392 - accuracy: 0.9274\n",
      "Epoch 5/100\n",
      "110/110 [==============================] - 0s 2ms/step - loss: 0.3817 - accuracy: 0.9498\n",
      "Epoch 6/100\n",
      "110/110 [==============================] - 0s 2ms/step - loss: 0.3552 - accuracy: 0.9567\n",
      "Epoch 7/100\n",
      "110/110 [==============================] - 0s 2ms/step - loss: 0.3177 - accuracy: 0.9584\n",
      "Epoch 8/100\n",
      "110/110 [==============================] - 0s 2ms/step - loss: 0.2847 - accuracy: 0.9713\n",
      "Epoch 9/100\n",
      "110/110 [==============================] - 0s 1ms/step - loss: 0.2565 - accuracy: 0.9784\n",
      "Epoch 10/100\n",
      "110/110 [==============================] - 0s 1ms/step - loss: 0.2392 - accuracy: 0.9801\n",
      "Epoch 11/100\n",
      "110/110 [==============================] - 0s 2ms/step - loss: 0.2207 - accuracy: 0.9846\n",
      "Epoch 12/100\n",
      "110/110 [==============================] - 0s 2ms/step - loss: 0.2019 - accuracy: 0.9832\n",
      "Epoch 13/100\n",
      "110/110 [==============================] - 0s 2ms/step - loss: 0.1953 - accuracy: 0.9848\n",
      "Epoch 14/100\n",
      "110/110 [==============================] - 0s 2ms/step - loss: 0.1879 - accuracy: 0.9733\n",
      "Epoch 15/100\n",
      "110/110 [==============================] - 0s 2ms/step - loss: 0.1749 - accuracy: 0.9765\n",
      "Epoch 16/100\n",
      "110/110 [==============================] - 0s 2ms/step - loss: 0.1670 - accuracy: 0.9814\n",
      "Epoch 17/100\n",
      "110/110 [==============================] - 0s 2ms/step - loss: 0.1495 - accuracy: 0.9838\n",
      "Epoch 18/100\n",
      "110/110 [==============================] - 0s 2ms/step - loss: 0.1492 - accuracy: 0.9804\n",
      "Epoch 19/100\n",
      "110/110 [==============================] - 0s 2ms/step - loss: 0.1392 - accuracy: 0.9795\n",
      "Epoch 20/100\n",
      "110/110 [==============================] - 0s 2ms/step - loss: 0.1257 - accuracy: 0.9865\n",
      "Epoch 21/100\n",
      "110/110 [==============================] - 0s 2ms/step - loss: 0.1266 - accuracy: 0.9816\n",
      "Epoch 22/100\n",
      "110/110 [==============================] - 0s 2ms/step - loss: 0.1174 - accuracy: 0.9840\n",
      "Epoch 23/100\n",
      "110/110 [==============================] - 0s 2ms/step - loss: 0.1056 - accuracy: 0.9918\n",
      "Epoch 24/100\n",
      "110/110 [==============================] - 0s 2ms/step - loss: 0.1095 - accuracy: 0.9898\n",
      "Epoch 25/100\n",
      "110/110 [==============================] - 0s 2ms/step - loss: 0.1012 - accuracy: 0.9869\n",
      "Epoch 26/100\n",
      "110/110 [==============================] - 0s 2ms/step - loss: 0.0968 - accuracy: 0.9915\n",
      "Epoch 27/100\n",
      "110/110 [==============================] - 0s 2ms/step - loss: 0.0960 - accuracy: 0.9859\n",
      "Epoch 28/100\n",
      "110/110 [==============================] - 0s 2ms/step - loss: 0.0943 - accuracy: 0.9864\n",
      "Epoch 29/100\n",
      "110/110 [==============================] - 0s 2ms/step - loss: 0.0870 - accuracy: 0.9877\n",
      "Epoch 30/100\n",
      "110/110 [==============================] - 0s 2ms/step - loss: 0.0883 - accuracy: 0.9856\n",
      "Epoch 31/100\n",
      "110/110 [==============================] - 0s 2ms/step - loss: 0.0717 - accuracy: 0.9934\n",
      "Epoch 32/100\n",
      "110/110 [==============================] - 0s 2ms/step - loss: 0.0730 - accuracy: 0.9904\n",
      "Epoch 33/100\n",
      "110/110 [==============================] - 0s 2ms/step - loss: 0.0697 - accuracy: 0.9876\n",
      "Epoch 34/100\n",
      "110/110 [==============================] - 0s 2ms/step - loss: 0.0666 - accuracy: 0.9927\n",
      "Epoch 35/100\n",
      "110/110 [==============================] - 0s 2ms/step - loss: 0.0755 - accuracy: 0.9809\n",
      "Epoch 36/100\n",
      "110/110 [==============================] - 0s 2ms/step - loss: 0.0568 - accuracy: 0.9960\n",
      "Epoch 37/100\n",
      "110/110 [==============================] - 0s 2ms/step - loss: 0.0586 - accuracy: 0.9915\n",
      "Epoch 38/100\n",
      "110/110 [==============================] - 0s 2ms/step - loss: 0.0575 - accuracy: 0.9906\n",
      "Epoch 39/100\n",
      "110/110 [==============================] - 0s 2ms/step - loss: 0.0639 - accuracy: 0.9866\n",
      "Epoch 40/100\n",
      "110/110 [==============================] - 0s 2ms/step - loss: 0.0608 - accuracy: 0.9895\n",
      "Epoch 41/100\n",
      "110/110 [==============================] - 0s 2ms/step - loss: 0.0562 - accuracy: 0.9878\n",
      "Epoch 42/100\n",
      "110/110 [==============================] - 0s 2ms/step - loss: 0.0532 - accuracy: 0.9869\n",
      "Epoch 43/100\n",
      "110/110 [==============================] - 0s 2ms/step - loss: 0.0518 - accuracy: 0.9900\n",
      "Epoch 44/100\n",
      "110/110 [==============================] - 0s 2ms/step - loss: 0.0469 - accuracy: 0.9904\n",
      "Epoch 45/100\n",
      "110/110 [==============================] - 0s 2ms/step - loss: 0.0534 - accuracy: 0.9835\n",
      "Epoch 46/100\n",
      "110/110 [==============================] - 0s 2ms/step - loss: 0.0515 - accuracy: 0.9862\n",
      "Epoch 47/100\n",
      "110/110 [==============================] - 0s 2ms/step - loss: 0.0552 - accuracy: 0.9862\n",
      "Epoch 48/100\n",
      "110/110 [==============================] - 0s 2ms/step - loss: 0.0480 - accuracy: 0.9884\n",
      "Epoch 49/100\n",
      "110/110 [==============================] - 0s 2ms/step - loss: 0.0438 - accuracy: 0.9889\n",
      "Epoch 50/100\n",
      "110/110 [==============================] - 0s 2ms/step - loss: 0.0508 - accuracy: 0.9867\n",
      "Epoch 51/100\n",
      "110/110 [==============================] - 0s 2ms/step - loss: 0.0407 - accuracy: 0.9909\n",
      "Epoch 52/100\n",
      "110/110 [==============================] - 0s 2ms/step - loss: 0.0362 - accuracy: 0.9940\n",
      "Epoch 53/100\n",
      "110/110 [==============================] - 0s 2ms/step - loss: 0.0501 - accuracy: 0.9830\n",
      "Epoch 54/100\n",
      "110/110 [==============================] - 0s 2ms/step - loss: 0.0415 - accuracy: 0.9866\n",
      "Epoch 55/100\n",
      "110/110 [==============================] - 0s 2ms/step - loss: 0.0410 - accuracy: 0.9873\n",
      "Epoch 56/100\n",
      "110/110 [==============================] - 0s 2ms/step - loss: 0.0374 - accuracy: 0.9900\n",
      "Epoch 57/100\n",
      "110/110 [==============================] - 0s 2ms/step - loss: 0.0377 - accuracy: 0.9890\n",
      "Epoch 58/100\n",
      "110/110 [==============================] - 0s 2ms/step - loss: 0.0268 - accuracy: 0.9955\n",
      "Epoch 59/100\n",
      "110/110 [==============================] - 0s 2ms/step - loss: 0.0345 - accuracy: 0.9887\n",
      "Epoch 60/100\n",
      "110/110 [==============================] - 0s 2ms/step - loss: 0.0328 - accuracy: 0.9900\n",
      "Epoch 61/100\n",
      "110/110 [==============================] - 0s 2ms/step - loss: 0.0393 - accuracy: 0.9836\n",
      "Epoch 62/100\n",
      "110/110 [==============================] - 0s 2ms/step - loss: 0.0369 - accuracy: 0.9858\n",
      "Epoch 63/100\n",
      "110/110 [==============================] - 0s 2ms/step - loss: 0.0352 - accuracy: 0.9872\n",
      "Epoch 64/100\n",
      "110/110 [==============================] - 0s 2ms/step - loss: 0.0319 - accuracy: 0.9893\n",
      "Epoch 65/100\n",
      "110/110 [==============================] - 0s 2ms/step - loss: 0.0328 - accuracy: 0.9871\n",
      "Epoch 66/100\n",
      "110/110 [==============================] - 0s 2ms/step - loss: 0.0306 - accuracy: 0.9923\n",
      "Epoch 67/100\n",
      "110/110 [==============================] - 0s 2ms/step - loss: 0.0249 - accuracy: 0.9938\n",
      "Epoch 68/100\n",
      "110/110 [==============================] - 0s 2ms/step - loss: 0.0300 - accuracy: 0.9873\n",
      "Epoch 69/100\n",
      "110/110 [==============================] - 0s 2ms/step - loss: 0.0357 - accuracy: 0.9849\n",
      "Epoch 70/100\n",
      "110/110 [==============================] - 0s 2ms/step - loss: 0.0365 - accuracy: 0.9847\n",
      "Epoch 71/100\n",
      "110/110 [==============================] - 0s 2ms/step - loss: 0.0362 - accuracy: 0.9805\n",
      "Epoch 72/100\n",
      "110/110 [==============================] - 0s 2ms/step - loss: 0.0376 - accuracy: 0.9817\n",
      "Epoch 73/100\n",
      "110/110 [==============================] - 0s 2ms/step - loss: 0.0323 - accuracy: 0.9885\n",
      "Epoch 74/100\n",
      "110/110 [==============================] - 0s 2ms/step - loss: 0.0257 - accuracy: 0.9902\n",
      "Epoch 75/100\n",
      "110/110 [==============================] - 0s 2ms/step - loss: 0.0379 - accuracy: 0.9820\n",
      "Epoch 76/100\n",
      "110/110 [==============================] - 0s 2ms/step - loss: 0.0350 - accuracy: 0.9835\n",
      "Epoch 77/100\n",
      "110/110 [==============================] - 0s 2ms/step - loss: 0.0293 - accuracy: 0.9875\n",
      "Epoch 78/100\n",
      "110/110 [==============================] - 0s 2ms/step - loss: 0.0316 - accuracy: 0.9848\n",
      "Epoch 79/100\n",
      "110/110 [==============================] - 0s 2ms/step - loss: 0.0333 - accuracy: 0.9863\n",
      "Epoch 80/100\n",
      "110/110 [==============================] - 0s 2ms/step - loss: 0.0265 - accuracy: 0.9894\n",
      "Epoch 81/100\n"
     ]
    },
    {
     "name": "stdout",
     "output_type": "stream",
     "text": [
      "110/110 [==============================] - 0s 2ms/step - loss: 0.0291 - accuracy: 0.9870\n",
      "Epoch 82/100\n",
      "110/110 [==============================] - 0s 2ms/step - loss: 0.0263 - accuracy: 0.9890\n",
      "Epoch 83/100\n",
      "110/110 [==============================] - 0s 2ms/step - loss: 0.0270 - accuracy: 0.9894\n",
      "Epoch 84/100\n",
      "110/110 [==============================] - 0s 2ms/step - loss: 0.0303 - accuracy: 0.9856\n",
      "Epoch 85/100\n",
      "110/110 [==============================] - 0s 2ms/step - loss: 0.0226 - accuracy: 0.9928\n",
      "Epoch 86/100\n",
      "110/110 [==============================] - 0s 2ms/step - loss: 0.0316 - accuracy: 0.9870\n",
      "Epoch 87/100\n",
      "110/110 [==============================] - 0s 2ms/step - loss: 0.0232 - accuracy: 0.9939\n",
      "Epoch 88/100\n",
      "110/110 [==============================] - 0s 2ms/step - loss: 0.0253 - accuracy: 0.9896\n",
      "Epoch 89/100\n",
      "110/110 [==============================] - 0s 2ms/step - loss: 0.0273 - accuracy: 0.9872\n",
      "Epoch 90/100\n",
      "110/110 [==============================] - 0s 2ms/step - loss: 0.0241 - accuracy: 0.9922\n",
      "Epoch 91/100\n",
      "110/110 [==============================] - 0s 2ms/step - loss: 0.0337 - accuracy: 0.9819\n",
      "Epoch 92/100\n",
      "110/110 [==============================] - 0s 2ms/step - loss: 0.0312 - accuracy: 0.9819\n",
      "Epoch 93/100\n",
      "110/110 [==============================] - 0s 2ms/step - loss: 0.0301 - accuracy: 0.9846\n",
      "Epoch 94/100\n",
      "110/110 [==============================] - 0s 2ms/step - loss: 0.0295 - accuracy: 0.9845\n",
      "Epoch 95/100\n",
      "110/110 [==============================] - 0s 2ms/step - loss: 0.0197 - accuracy: 0.9926\n",
      "Epoch 96/100\n",
      "110/110 [==============================] - 0s 2ms/step - loss: 0.0263 - accuracy: 0.9886\n",
      "Epoch 97/100\n",
      "110/110 [==============================] - 0s 2ms/step - loss: 0.0229 - accuracy: 0.9896\n",
      "Epoch 98/100\n",
      "110/110 [==============================] - 0s 2ms/step - loss: 0.0264 - accuracy: 0.9886\n",
      "Epoch 99/100\n",
      "110/110 [==============================] - 0s 2ms/step - loss: 0.0351 - accuracy: 0.9843\n",
      "Epoch 100/100\n",
      "110/110 [==============================] - 0s 2ms/step - loss: 0.0259 - accuracy: 0.9872\n"
     ]
    },
    {
     "data": {
      "text/plain": [
       "<tensorflow.python.keras.callbacks.History at 0x1a846cac7b8>"
      ]
     },
     "execution_count": 30,
     "metadata": {},
     "output_type": "execute_result"
    }
   ],
   "source": [
    "classifier.fit(x_train,y_train,batch_size=10,epochs=100)"
   ]
  },
  {
   "cell_type": "code",
   "execution_count": 31,
   "metadata": {},
   "outputs": [],
   "source": [
    "#prediciting the test result\n",
    "y_pred=classifier.predict(x_test)\n",
    "y_pred=(y_pred>0.5)"
   ]
  },
  {
   "cell_type": "code",
   "execution_count": 32,
   "metadata": {},
   "outputs": [],
   "source": [
    "#making the confusion matrix\n",
    "from sklearn.metrics import accuracy_score,confusion_matrix\n",
    "cm=confusion_matrix(y_test,y_pred)\n",
    "acs=accuracy_score(y_test,y_pred)"
   ]
  },
  {
   "cell_type": "code",
   "execution_count": 33,
   "metadata": {},
   "outputs": [
    {
     "name": "stdout",
     "output_type": "stream",
     "text": [
      "[[155   2]\n",
      " [  0 118]]\n",
      "0.9927272727272727\n"
     ]
    }
   ],
   "source": [
    "print(cm)\n",
    "print(acs)"
   ]
  },
  {
   "cell_type": "code",
   "execution_count": 40,
   "metadata": {},
   "outputs": [],
   "source": [
    "from sklearn.metrics import f1_score\n",
    "\n",
    "f1=f1_score(y_test,y_pred)"
   ]
  },
  {
   "cell_type": "code",
   "execution_count": 41,
   "metadata": {},
   "outputs": [
    {
     "name": "stdout",
     "output_type": "stream",
     "text": [
      "0.9915966386554621\n"
     ]
    }
   ],
   "source": [
    "print(f1)"
   ]
  },
  {
   "cell_type": "code",
   "execution_count": null,
   "metadata": {},
   "outputs": [],
   "source": []
  },
  {
   "cell_type": "code",
   "execution_count": null,
   "metadata": {},
   "outputs": [],
   "source": []
  }
 ],
 "metadata": {
  "kernelspec": {
   "display_name": "Python 3",
   "language": "python",
   "name": "python3"
  },
  "language_info": {
   "codemirror_mode": {
    "name": "ipython",
    "version": 3
   },
   "file_extension": ".py",
   "mimetype": "text/x-python",
   "name": "python",
   "nbconvert_exporter": "python",
   "pygments_lexer": "ipython3",
   "version": "3.6.5"
  }
 },
 "nbformat": 4,
 "nbformat_minor": 2
}
